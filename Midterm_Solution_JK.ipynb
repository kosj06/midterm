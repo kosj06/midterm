{
 "cells": [
  {
   "cell_type": "code",
   "execution_count": 3,
   "id": "82e1d809",
   "metadata": {},
   "outputs": [],
   "source": [
    "#Packages\n",
    "from bs4 import BeautifulSoup\n",
    "import requests\n",
    "import pandas as pd\n",
    "import json"
   ]
  },
  {
   "cell_type": "code",
   "execution_count": 4,
   "id": "55887176",
   "metadata": {},
   "outputs": [],
   "source": [
    "# api adress: https://ies-midterm.soulution.rocks/"
   ]
  },
  {
   "cell_type": "code",
   "execution_count": 5,
   "id": "772bd940",
   "metadata": {},
   "outputs": [],
   "source": [
    "rq = requests.get('https://ies-midterm.soulution.rocks/')"
   ]
  },
  {
   "cell_type": "code",
   "execution_count": 6,
   "id": "54f4ec3c",
   "metadata": {},
   "outputs": [
    {
     "data": {
      "text/plain": [
       "<Response [403]>"
      ]
     },
     "execution_count": 6,
     "metadata": {},
     "output_type": "execute_result"
    }
   ],
   "source": [
    "rq"
   ]
  },
  {
   "cell_type": "code",
   "execution_count": 11,
   "id": "e88625f7",
   "metadata": {},
   "outputs": [],
   "source": [
    "#send payload\n",
    "pay = '{\"cuni\":\"41000203\"}'\n",
    "rq = requests.post('https://ies-midterm.soulution.rocks/login',pay)"
   ]
  },
  {
   "cell_type": "code",
   "execution_count": 12,
   "id": "31038227",
   "metadata": {},
   "outputs": [
    {
     "data": {
      "text/plain": [
       "<Response [200]>"
      ]
     },
     "execution_count": 12,
     "metadata": {},
     "output_type": "execute_result"
    }
   ],
   "source": [
    "rq"
   ]
  },
  {
   "cell_type": "code",
   "execution_count": 13,
   "id": "2df9632a",
   "metadata": {},
   "outputs": [],
   "source": [
    "#Store\n",
    "data = json.loads(rq.text)"
   ]
  },
  {
   "cell_type": "code",
   "execution_count": 14,
   "id": "357bd3fc",
   "metadata": {},
   "outputs": [
    {
     "data": {
      "text/plain": [
       "{'data': {'personal_code': 'c92daf9e',\n",
       "  'dataset_ids': ['f45ec2e9fc',\n",
       "   '5df3513c79',\n",
       "   '775352ba11',\n",
       "   'f894683be9',\n",
       "   '2d1aef30ed',\n",
       "   '7be200ce5b']},\n",
       " 'message': 'Hello, Kos Jiří! Good luck with the midterm. GET your data set from /data/file_id endpoint; use the codes you received in the data response as the file_id parameter! Print the personal code in your notebook.'}"
      ]
     },
     "execution_count": 14,
     "metadata": {},
     "output_type": "execute_result"
    }
   ],
   "source": [
    "data"
   ]
  },
  {
   "cell_type": "code",
   "execution_count": 15,
   "id": "fb97d2f3",
   "metadata": {},
   "outputs": [
    {
     "data": {
      "text/plain": [
       "'c92daf9e'"
      ]
     },
     "execution_count": 15,
     "metadata": {},
     "output_type": "execute_result"
    }
   ],
   "source": [
    "# print personal code\n",
    "data['data']['personal_code']"
   ]
  },
  {
   "cell_type": "code",
   "execution_count": 22,
   "id": "ef7af38a",
   "metadata": {},
   "outputs": [
    {
     "data": {
      "text/plain": [
       "['f45ec2e9fc',\n",
       " '5df3513c79',\n",
       " '775352ba11',\n",
       " 'f894683be9',\n",
       " '2d1aef30ed',\n",
       " '7be200ce5b']"
      ]
     },
     "execution_count": 22,
     "metadata": {},
     "output_type": "execute_result"
    }
   ],
   "source": [
    "#store codes\n",
    "codes_data = data['data'][\"dataset_ids\"]\n",
    "codes_data"
   ]
  },
  {
   "cell_type": "code",
   "execution_count": 143,
   "id": "701cad4b",
   "metadata": {},
   "outputs": [],
   "source": [
    "#For loop /data/{data_code} \n",
    "dataset = {} #empty to collect data\n",
    "for data_code in codes_data:\n",
    "    rq = requests.get(f'https://ies-midterm.soulution.rocks/data/{data_code}')\n",
    "    while rq.status_code !=200:  \n",
    "        rq =requests.get(f'https://ies-midterm.soulution.rocks/data/{data_code}')\n",
    "    dat =rq.json()['data']\n",
    "    \n",
    "    ticker = dat['company']\n",
    "    datas = pd.DataFrame(dat['data']).set_index('Date')\n",
    "    datas.index = pd.to_datetime(datas.index)\n",
    "    dataset[ticker] = datas"
   ]
  },
  {
   "cell_type": "code",
   "execution_count": 145,
   "id": "d1e25ed2",
   "metadata": {},
   "outputs": [
    {
     "data": {
      "text/html": [
       "<div>\n",
       "<style scoped>\n",
       "    .dataframe tbody tr th:only-of-type {\n",
       "        vertical-align: middle;\n",
       "    }\n",
       "\n",
       "    .dataframe tbody tr th {\n",
       "        vertical-align: top;\n",
       "    }\n",
       "\n",
       "    .dataframe thead th {\n",
       "        text-align: right;\n",
       "    }\n",
       "</style>\n",
       "<table border=\"1\" class=\"dataframe\">\n",
       "  <thead>\n",
       "    <tr style=\"text-align: right;\">\n",
       "      <th></th>\n",
       "      <th></th>\n",
       "      <th>Open</th>\n",
       "      <th>High</th>\n",
       "      <th>Low</th>\n",
       "      <th>Close</th>\n",
       "      <th>Adj.Close</th>\n",
       "      <th>Volume</th>\n",
       "    </tr>\n",
       "    <tr>\n",
       "      <th></th>\n",
       "      <th>Date</th>\n",
       "      <th></th>\n",
       "      <th></th>\n",
       "      <th></th>\n",
       "      <th></th>\n",
       "      <th></th>\n",
       "      <th></th>\n",
       "    </tr>\n",
       "  </thead>\n",
       "  <tbody>\n",
       "    <tr>\n",
       "      <th rowspan=\"5\" valign=\"top\">AAL</th>\n",
       "      <th>2019-01-02</th>\n",
       "      <td>31.459999084472656</td>\n",
       "      <td>32.650001525878906</td>\n",
       "      <td>31.049999237060547</td>\n",
       "      <td>32.47999954223633</td>\n",
       "      <td>31.963159561157227</td>\n",
       "      <td>5229500</td>\n",
       "    </tr>\n",
       "    <tr>\n",
       "      <th>2019-01-03</th>\n",
       "      <td>31.690000534057617</td>\n",
       "      <td>31.850000381469727</td>\n",
       "      <td>28.809999465942383</td>\n",
       "      <td>30.059999465942383</td>\n",
       "      <td>29.5816650390625</td>\n",
       "      <td>16822000</td>\n",
       "    </tr>\n",
       "    <tr>\n",
       "      <th>2019-01-04</th>\n",
       "      <td>30.440000534057617</td>\n",
       "      <td>32.09000015258789</td>\n",
       "      <td>30.399999618530273</td>\n",
       "      <td>32.040000915527344</td>\n",
       "      <td>31.530160903930664</td>\n",
       "      <td>9369600</td>\n",
       "    </tr>\n",
       "    <tr>\n",
       "      <th>2019-01-07</th>\n",
       "      <td>31.989999771118164</td>\n",
       "      <td>33.47999954223633</td>\n",
       "      <td>31.239999771118164</td>\n",
       "      <td>32.95000076293945</td>\n",
       "      <td>32.42567825317383</td>\n",
       "      <td>8010700</td>\n",
       "    </tr>\n",
       "    <tr>\n",
       "      <th>2019-01-08</th>\n",
       "      <td>33.36000061035156</td>\n",
       "      <td>33.650001525878906</td>\n",
       "      <td>32.20000076293945</td>\n",
       "      <td>32.41999816894531</td>\n",
       "      <td>31.904109954833984</td>\n",
       "      <td>7107700</td>\n",
       "    </tr>\n",
       "    <tr>\n",
       "      <th>...</th>\n",
       "      <th>...</th>\n",
       "      <td>...</td>\n",
       "      <td>...</td>\n",
       "      <td>...</td>\n",
       "      <td>...</td>\n",
       "      <td>...</td>\n",
       "      <td>...</td>\n",
       "    </tr>\n",
       "    <tr>\n",
       "      <th rowspan=\"5\" valign=\"top\">SVT</th>\n",
       "      <th>2020-11-17</th>\n",
       "      <td>7.659999847412109</td>\n",
       "      <td>7.869999885559082</td>\n",
       "      <td>7.349999904632568</td>\n",
       "      <td>7.360000133514404</td>\n",
       "      <td>7.360000133514404</td>\n",
       "      <td>5900</td>\n",
       "    </tr>\n",
       "    <tr>\n",
       "      <th>2020-11-18</th>\n",
       "      <td>7.329999923706055</td>\n",
       "      <td>7.329999923706055</td>\n",
       "      <td>7.329999923706055</td>\n",
       "      <td>7.329999923706055</td>\n",
       "      <td>7.329999923706055</td>\n",
       "      <td>700</td>\n",
       "    </tr>\n",
       "    <tr>\n",
       "      <th>2020-11-19</th>\n",
       "      <td>7.53000020980835</td>\n",
       "      <td>7.53000020980835</td>\n",
       "      <td>7.309999942779541</td>\n",
       "      <td>7.360000133514404</td>\n",
       "      <td>7.360000133514404</td>\n",
       "      <td>5400</td>\n",
       "    </tr>\n",
       "    <tr>\n",
       "      <th>2020-11-20</th>\n",
       "      <td>7.360000133514404</td>\n",
       "      <td>7.360000133514404</td>\n",
       "      <td>7.150000095367432</td>\n",
       "      <td>7.150000095367432</td>\n",
       "      <td>7.150000095367432</td>\n",
       "      <td>2000</td>\n",
       "    </tr>\n",
       "    <tr>\n",
       "      <th>NaT</th>\n",
       "      <td>NaN</td>\n",
       "      <td>NaN</td>\n",
       "      <td>NaN</td>\n",
       "      <td>NaN</td>\n",
       "      <td>NaN</td>\n",
       "      <td>NaN</td>\n",
       "    </tr>\n",
       "  </tbody>\n",
       "</table>\n",
       "<p>2100 rows × 6 columns</p>\n",
       "</div>"
      ],
      "text/plain": [
       "                              Open                High                 Low  \\\n",
       "    Date                                                                     \n",
       "AAL 2019-01-02  31.459999084472656  32.650001525878906  31.049999237060547   \n",
       "    2019-01-03  31.690000534057617  31.850000381469727  28.809999465942383   \n",
       "    2019-01-04  30.440000534057617   32.09000015258789  30.399999618530273   \n",
       "    2019-01-07  31.989999771118164   33.47999954223633  31.239999771118164   \n",
       "    2019-01-08   33.36000061035156  33.650001525878906   32.20000076293945   \n",
       "...                            ...                 ...                 ...   \n",
       "SVT 2020-11-17   7.659999847412109   7.869999885559082   7.349999904632568   \n",
       "    2020-11-18   7.329999923706055   7.329999923706055   7.329999923706055   \n",
       "    2020-11-19    7.53000020980835    7.53000020980835   7.309999942779541   \n",
       "    2020-11-20   7.360000133514404   7.360000133514404   7.150000095367432   \n",
       "    NaT                        NaN                 NaN                 NaN   \n",
       "\n",
       "                             Close           Adj.Close    Volume  \n",
       "    Date                                                          \n",
       "AAL 2019-01-02   32.47999954223633  31.963159561157227   5229500  \n",
       "    2019-01-03  30.059999465942383    29.5816650390625  16822000  \n",
       "    2019-01-04  32.040000915527344  31.530160903930664   9369600  \n",
       "    2019-01-07   32.95000076293945   32.42567825317383   8010700  \n",
       "    2019-01-08   32.41999816894531  31.904109954833984   7107700  \n",
       "...                            ...                 ...       ...  \n",
       "SVT 2020-11-17   7.360000133514404   7.360000133514404      5900  \n",
       "    2020-11-18   7.329999923706055   7.329999923706055       700  \n",
       "    2020-11-19   7.360000133514404   7.360000133514404      5400  \n",
       "    2020-11-20   7.150000095367432   7.150000095367432      2000  \n",
       "    NaT                        NaN                 NaN       NaN  \n",
       "\n",
       "[2100 rows x 6 columns]"
      ]
     },
     "execution_count": 145,
     "metadata": {},
     "output_type": "execute_result"
    }
   ],
   "source": [
    "#Convert to dataframe\n",
    "dataframe = pd.concat(dataset)\n",
    "dataframe"
   ]
  },
  {
   "cell_type": "code",
   "execution_count": 146,
   "id": "0a93984b",
   "metadata": {},
   "outputs": [
    {
     "data": {
      "text/html": [
       "<div>\n",
       "<style scoped>\n",
       "    .dataframe tbody tr th:only-of-type {\n",
       "        vertical-align: middle;\n",
       "    }\n",
       "\n",
       "    .dataframe tbody tr th {\n",
       "        vertical-align: top;\n",
       "    }\n",
       "\n",
       "    .dataframe thead th {\n",
       "        text-align: right;\n",
       "    }\n",
       "</style>\n",
       "<table border=\"1\" class=\"dataframe\">\n",
       "  <thead>\n",
       "    <tr style=\"text-align: right;\">\n",
       "      <th></th>\n",
       "      <th></th>\n",
       "      <th>Open</th>\n",
       "      <th>High</th>\n",
       "      <th>Low</th>\n",
       "      <th>Close</th>\n",
       "      <th>Adj.Close</th>\n",
       "      <th>Volume</th>\n",
       "    </tr>\n",
       "    <tr>\n",
       "      <th></th>\n",
       "      <th>Date</th>\n",
       "      <th></th>\n",
       "      <th></th>\n",
       "      <th></th>\n",
       "      <th></th>\n",
       "      <th></th>\n",
       "      <th></th>\n",
       "    </tr>\n",
       "  </thead>\n",
       "  <tbody>\n",
       "    <tr>\n",
       "      <th rowspan=\"5\" valign=\"top\">AAL</th>\n",
       "      <th>2019-01-02</th>\n",
       "      <td>31.459999084472656</td>\n",
       "      <td>32.650001525878906</td>\n",
       "      <td>31.049999237060547</td>\n",
       "      <td>32.47999954223633</td>\n",
       "      <td>31.963159561157227</td>\n",
       "      <td>5229500</td>\n",
       "    </tr>\n",
       "    <tr>\n",
       "      <th>2019-01-03</th>\n",
       "      <td>31.690000534057617</td>\n",
       "      <td>31.850000381469727</td>\n",
       "      <td>28.809999465942383</td>\n",
       "      <td>30.059999465942383</td>\n",
       "      <td>29.5816650390625</td>\n",
       "      <td>16822000</td>\n",
       "    </tr>\n",
       "    <tr>\n",
       "      <th>2019-01-04</th>\n",
       "      <td>30.440000534057617</td>\n",
       "      <td>32.09000015258789</td>\n",
       "      <td>30.399999618530273</td>\n",
       "      <td>32.040000915527344</td>\n",
       "      <td>31.530160903930664</td>\n",
       "      <td>9369600</td>\n",
       "    </tr>\n",
       "    <tr>\n",
       "      <th>2019-01-07</th>\n",
       "      <td>31.989999771118164</td>\n",
       "      <td>33.47999954223633</td>\n",
       "      <td>31.239999771118164</td>\n",
       "      <td>32.95000076293945</td>\n",
       "      <td>32.42567825317383</td>\n",
       "      <td>8010700</td>\n",
       "    </tr>\n",
       "    <tr>\n",
       "      <th>2019-01-08</th>\n",
       "      <td>33.36000061035156</td>\n",
       "      <td>33.650001525878906</td>\n",
       "      <td>32.20000076293945</td>\n",
       "      <td>32.41999816894531</td>\n",
       "      <td>31.904109954833984</td>\n",
       "      <td>7107700</td>\n",
       "    </tr>\n",
       "    <tr>\n",
       "      <th>...</th>\n",
       "      <th>...</th>\n",
       "      <td>...</td>\n",
       "      <td>...</td>\n",
       "      <td>...</td>\n",
       "      <td>...</td>\n",
       "      <td>...</td>\n",
       "      <td>...</td>\n",
       "    </tr>\n",
       "    <tr>\n",
       "      <th rowspan=\"5\" valign=\"top\">SVT</th>\n",
       "      <th>2020-11-16</th>\n",
       "      <td>7.869999885559082</td>\n",
       "      <td>8.039999961853027</td>\n",
       "      <td>7.300000190734863</td>\n",
       "      <td>7.340000152587891</td>\n",
       "      <td>7.340000152587891</td>\n",
       "      <td>25300</td>\n",
       "    </tr>\n",
       "    <tr>\n",
       "      <th>2020-11-17</th>\n",
       "      <td>7.659999847412109</td>\n",
       "      <td>7.869999885559082</td>\n",
       "      <td>7.349999904632568</td>\n",
       "      <td>7.360000133514404</td>\n",
       "      <td>7.360000133514404</td>\n",
       "      <td>5900</td>\n",
       "    </tr>\n",
       "    <tr>\n",
       "      <th>2020-11-18</th>\n",
       "      <td>7.329999923706055</td>\n",
       "      <td>7.329999923706055</td>\n",
       "      <td>7.329999923706055</td>\n",
       "      <td>7.329999923706055</td>\n",
       "      <td>7.329999923706055</td>\n",
       "      <td>700</td>\n",
       "    </tr>\n",
       "    <tr>\n",
       "      <th>2020-11-19</th>\n",
       "      <td>7.53000020980835</td>\n",
       "      <td>7.53000020980835</td>\n",
       "      <td>7.309999942779541</td>\n",
       "      <td>7.360000133514404</td>\n",
       "      <td>7.360000133514404</td>\n",
       "      <td>5400</td>\n",
       "    </tr>\n",
       "    <tr>\n",
       "      <th>2020-11-20</th>\n",
       "      <td>7.360000133514404</td>\n",
       "      <td>7.360000133514404</td>\n",
       "      <td>7.150000095367432</td>\n",
       "      <td>7.150000095367432</td>\n",
       "      <td>7.150000095367432</td>\n",
       "      <td>2000</td>\n",
       "    </tr>\n",
       "  </tbody>\n",
       "</table>\n",
       "<p>2094 rows × 6 columns</p>\n",
       "</div>"
      ],
      "text/plain": [
       "                              Open                High                 Low  \\\n",
       "    Date                                                                     \n",
       "AAL 2019-01-02  31.459999084472656  32.650001525878906  31.049999237060547   \n",
       "    2019-01-03  31.690000534057617  31.850000381469727  28.809999465942383   \n",
       "    2019-01-04  30.440000534057617   32.09000015258789  30.399999618530273   \n",
       "    2019-01-07  31.989999771118164   33.47999954223633  31.239999771118164   \n",
       "    2019-01-08   33.36000061035156  33.650001525878906   32.20000076293945   \n",
       "...                            ...                 ...                 ...   \n",
       "SVT 2020-11-16   7.869999885559082   8.039999961853027   7.300000190734863   \n",
       "    2020-11-17   7.659999847412109   7.869999885559082   7.349999904632568   \n",
       "    2020-11-18   7.329999923706055   7.329999923706055   7.329999923706055   \n",
       "    2020-11-19    7.53000020980835    7.53000020980835   7.309999942779541   \n",
       "    2020-11-20   7.360000133514404   7.360000133514404   7.150000095367432   \n",
       "\n",
       "                             Close           Adj.Close    Volume  \n",
       "    Date                                                          \n",
       "AAL 2019-01-02   32.47999954223633  31.963159561157227   5229500  \n",
       "    2019-01-03  30.059999465942383    29.5816650390625  16822000  \n",
       "    2019-01-04  32.040000915527344  31.530160903930664   9369600  \n",
       "    2019-01-07   32.95000076293945   32.42567825317383   8010700  \n",
       "    2019-01-08   32.41999816894531  31.904109954833984   7107700  \n",
       "...                            ...                 ...       ...  \n",
       "SVT 2020-11-16   7.340000152587891   7.340000152587891     25300  \n",
       "    2020-11-17   7.360000133514404   7.360000133514404      5900  \n",
       "    2020-11-18   7.329999923706055   7.329999923706055       700  \n",
       "    2020-11-19   7.360000133514404   7.360000133514404      5400  \n",
       "    2020-11-20   7.150000095367432   7.150000095367432      2000  \n",
       "\n",
       "[2094 rows x 6 columns]"
      ]
     },
     "execution_count": 146,
     "metadata": {},
     "output_type": "execute_result"
    }
   ],
   "source": [
    "#the time series should be from 2019-01-02 to 2020-11-20. Is it the case in your sample?\n",
    "#delete NA\n",
    "dataframe.dropna(how='all',inplace = True)\n",
    "dataframe"
   ]
  },
  {
   "cell_type": "code",
   "execution_count": 147,
   "id": "c01230a0",
   "metadata": {},
   "outputs": [
    {
     "data": {
      "text/plain": [
       "ticker\n",
       "AAL     9.890000343322754\n",
       "SLA     84.69000244140625\n",
       "SMIN    39.71310806274414\n",
       "RTO                1865.0\n",
       "RIO     65.43000030517578\n",
       "SVT     9.979999542236328\n",
       "Name: Adj.Close, dtype: object"
      ]
     },
     "execution_count": 147,
     "metadata": {},
     "output_type": "execute_result"
    }
   ],
   "source": [
    "#what is the highest and lowest Adj Close price the company recorded?\n",
    "#add ticker\n",
    "dataframe.index.names = ['ticker','date']\n",
    "dataframe\n",
    "dataframe.groupby('ticker')['Adj.Close'].max()\n"
   ]
  },
  {
   "cell_type": "code",
   "execution_count": 148,
   "id": "1ea257af",
   "metadata": {},
   "outputs": [
    {
     "data": {
      "text/plain": [
       "ticker\n",
       "AAL     10.020000457763672\n",
       "SLA     47.939998626708984\n",
       "SMIN     20.77176284790039\n",
       "RTO                 1865.0\n",
       "RIO        35.546142578125\n",
       "SVT                   10.0\n",
       "Name: Adj.Close, dtype: object"
      ]
     },
     "execution_count": 148,
     "metadata": {},
     "output_type": "execute_result"
    }
   ],
   "source": [
    "dataframe.groupby('ticker')['Adj.Close'].min()"
   ]
  },
  {
   "cell_type": "code",
   "execution_count": 149,
   "id": "eb1fac44",
   "metadata": {},
   "outputs": [
    {
     "data": {
      "text/plain": [
       "ticker\n",
       "AAL       36.441425\n",
       "SLA       84.690002\n",
       "SMIN      39.713108\n",
       "RTO     1865.000000\n",
       "RIO       65.430000\n",
       "SVT       13.249181\n",
       "Name: Adj.Close, dtype: float64"
      ]
     },
     "execution_count": 149,
     "metadata": {},
     "output_type": "execute_result"
    }
   ],
   "source": [
    "#object, we have to convert to float\n",
    "dataframe = dataframe.apply(lambda a: pd.to_numeric(a))\n",
    "dataframe\n",
    "dataframe.groupby('ticker')['Adj.Close'].max()"
   ]
  },
  {
   "cell_type": "code",
   "execution_count": 141,
   "id": "421582f8",
   "metadata": {},
   "outputs": [
    {
     "data": {
      "text/plain": [
       "ticker\n",
       "AAL        9.040000\n",
       "SLA       47.939999\n",
       "SMIN      20.771763\n",
       "RTO     1865.000000\n",
       "RIO       35.546143\n",
       "SVT        5.960000\n",
       "Name: Adj.Close, dtype: float64"
      ]
     },
     "execution_count": 141,
     "metadata": {},
     "output_type": "execute_result"
    }
   ],
   "source": [
    "dataframe.groupby('ticker')['Adj.Close'].min()"
   ]
  },
  {
   "cell_type": "code",
   "execution_count": 150,
   "id": "9f082918",
   "metadata": {},
   "outputs": [
    {
     "data": {
      "text/plain": [
       "ticker\n",
       "AAL      (AAL, 2020-06-05 00:00:00)\n",
       "SLA      (SLA, 2020-04-21 00:00:00)\n",
       "SMIN    (SMIN, 2020-04-16 00:00:00)\n",
       "RTO      (RTO, 2020-01-24 00:00:00)\n",
       "RIO      (RIO, 2019-03-19 00:00:00)\n",
       "SVT      (SVT, 2019-03-15 00:00:00)\n",
       "Name: Volume, dtype: object"
      ]
     },
     "execution_count": 150,
     "metadata": {},
     "output_type": "execute_result"
    }
   ],
   "source": [
    "#what day was the highest number of shares traded\n",
    "dataframe.groupby('ticker')['Volume'].idxmax()"
   ]
  },
  {
   "cell_type": "code",
   "execution_count": 151,
   "id": "1d0344c7",
   "metadata": {},
   "outputs": [
    {
     "data": {
      "text/plain": [
       "ticker\n",
       "AAL     16640483900\n",
       "SLA         6444849\n",
       "SMIN       29874000\n",
       "RTO               0\n",
       "RIO      1125708200\n",
       "SVT         1529700\n",
       "Name: Volume, dtype: int64"
      ]
     },
     "execution_count": 151,
     "metadata": {},
     "output_type": "execute_result"
    }
   ],
   "source": [
    "#what is the total of shares traded\n",
    "dataframe.groupby('ticker')['Volume'].sum()"
   ]
  },
  {
   "cell_type": "code",
   "execution_count": 152,
   "id": "c1479b73",
   "metadata": {},
   "outputs": [
    {
     "data": {
      "text/plain": [
       "<AxesSubplot:xlabel='date'>"
      ]
     },
     "execution_count": 152,
     "metadata": {},
     "output_type": "execute_result"
    },
    {
     "data": {
      "image/png": "[encoded data removed]",
      "text/plain": [
       "<Figure size 432x288 with 1 Axes>"
      ]
     },
     "metadata": {
      "needs_background": "light"
     },
     "output_type": "display_data"
    }
   ],
   "source": [
    "#AAL highest\n",
    "dataframe.loc['AAL',:]['Adj.Close'].plot()"
   ]
  },
  {
   "cell_type": "code",
   "execution_count": null,
   "id": "798f5905",
   "metadata": {},
   "outputs": [],
   "source": [
    "#"
   ]
  }
 ],
 "metadata": {
  "kernelspec": {
   "display_name": "Python 3",
   "language": "python",
   "name": "python3"
  },
  "language_info": {
   "codemirror_mode": {
    "name": "ipython",
    "version": 3
   },
   "file_extension": ".py",
   "mimetype": "text/x-python",
   "name": "python",
   "nbconvert_exporter": "python",
   "pygments_lexer": "ipython3",
   "version": "3.8.8"
  }
 },
 "nbformat": 4,
 "nbformat_minor": 5
}
